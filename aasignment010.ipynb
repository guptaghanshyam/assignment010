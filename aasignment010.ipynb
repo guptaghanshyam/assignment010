{
 "cells": [
  {
   "cell_type": "markdown",
   "metadata": {},
   "source": [
    "Q1, Create a vehicle class with an init method having instance variables as name_of_vehicle, max_speed\n",
    "and average_of_vehicle."
   ]
  },
  {
   "cell_type": "code",
   "execution_count": 1,
   "metadata": {},
   "outputs": [
    {
     "name": "stdout",
     "output_type": "stream",
     "text": [
      "Name of the vehicle car\n",
      "Max speed 120\n",
      "Average of the vehicle 50\n"
     ]
    }
   ],
   "source": [
    "class vehicle:\n",
    "    def __init__(self, name_of_the_vehicle,max_speed, average_of_vehicle):\n",
    "        self.name_of_the_vehicle=name_of_the_vehicle\n",
    "        self.max_speed=max_speed\n",
    "        self.average_of_vehicle=average_of_vehicle\n",
    "\n",
    "my_vehicle=vehicle(\"car\",120,50)\n",
    "\n",
    "print(\"Name of the vehicle\",my_vehicle.name_of_the_vehicle)\n",
    "print(\"Max speed\",my_vehicle.max_speed)\n",
    "print(\"Average of the vehicle\",my_vehicle.average_of_vehicle)"
   ]
  },
  {
   "cell_type": "markdown",
   "metadata": {},
   "source": [
    "Q2. Create a child class car from the vehicle class created in Que 1, which will inherit the vehicle class.\n",
    "Create a method named seating_capacity which takes capacity as an argument and returns the name of\n",
    "the vehicle and its seating capacity."
   ]
  },
  {
   "cell_type": "code",
   "execution_count": 2,
   "metadata": {},
   "outputs": [
    {
     "name": "stdout",
     "output_type": "stream",
     "text": [
      "Name of the vehicle lamborgini\n",
      "Max speed 200\n",
      "Average of the vehicle 100\n",
      "lamborgini has a seating capacity of 2\n"
     ]
    }
   ],
   "source": [
    "class vehicle:\n",
    "    def __init__(self, name_of_the_vehicle,max_speed, average_of_vehicle):\n",
    "        self.name_of_the_vehicle=name_of_the_vehicle\n",
    "        self.max_speed=max_speed\n",
    "        self.average_of_vehicle=average_of_vehicle\n",
    "\n",
    "class car(vehicle):\n",
    "    def seating_capacity(self,capacity):\n",
    "        return f\"{self.name_of_the_vehicle} has a seating capacity of {capacity}\"\n",
    "    \n",
    "my_car=car(\"lamborgini\",200,100)\n",
    "\n",
    "print(\"Name of the vehicle\",my_car.name_of_the_vehicle)\n",
    "print(\"Max speed\",my_car.max_speed)\n",
    "print(\"Average of the vehicle\",my_car.average_of_vehicle)\n",
    "\n",
    "print(my_car.seating_capacity(2))"
   ]
  },
  {
   "cell_type": "markdown",
   "metadata": {},
   "source": [
    "Q3. What is multiple inheritance? Write a python code to demonstrate multiple inheritance."
   ]
  },
  {
   "cell_type": "markdown",
   "metadata": {},
   "source": [
    "Ans :Multiple inheritance is a feature in object-oriented programming where a class can inherit attributes and methods from multiple parent classes. In Python, a class can inherit from multiple classes by listing them inside parentheses in the class definition."
   ]
  },
  {
   "cell_type": "code",
   "execution_count": 5,
   "metadata": {},
   "outputs": [
    {
     "name": "stdout",
     "output_type": "stream",
     "text": [
      "i am a parrot and i am green\n",
      "chirp chrip!\n",
      "i can fly at the speed 30\n"
     ]
    }
   ],
   "source": [
    "class animal:\n",
    "    def __init__(self ,species):\n",
    "        self.species=species\n",
    "\n",
    "    def make_sound(self):\n",
    "        pass\n",
    "\n",
    "class flyable:\n",
    "    def __init__(self ,flying_speed):\n",
    "        self.flying_speed = flying_speed\n",
    "\n",
    "    def fly(self):\n",
    "        print(f\"i can fly at the speed {self.flying_speed}\")\n",
    "\n",
    "class Bird(animal,flyable):\n",
    "    def __init__(self, species,flying_speed,color):\n",
    "        animal.__init__(self,species)\n",
    "        flyable.__init__(self,flying_speed)\n",
    "        self.color =color\n",
    "\n",
    "    def make_sound(self):\n",
    "        print(\"chirp chrip!\")\n",
    "\n",
    "parrot =Bird(\"parrot\",30,\"green\")\n",
    "\n",
    "print(f\"i am a {parrot.species} and i am {parrot.color}\")\n",
    "parrot.make_sound()\n",
    "parrot.fly()\n",
    "        "
   ]
  },
  {
   "cell_type": "markdown",
   "metadata": {},
   "source": [
    "Q4. What are getter and setter in python? Create a class and create a getter and a setter method in this\n",
    "class."
   ]
  },
  {
   "cell_type": "markdown",
   "metadata": {},
   "source": [
    "In Python, getters and setters are methods that allow you to control the access and modification of class attributes (instance variables). They are used to encapsulate the attributes and provide a way to get and set their values while enforcing certain rules or validations.\n",
    "\n",
    "Getter Method: A getter method (also known as an accessor method) is used to get the value of a private instance variable. It provides access to the attribute's value without directly accessing the variable.\n",
    "\n",
    "Setter Method: A setter method (also known as a mutator method) is used to set the value of a private instance variable. It allows you to modify the attribute's value while enforcing any rules or validations you might have defined.\n",
    "\n"
   ]
  },
  {
   "cell_type": "code",
   "execution_count": 16,
   "metadata": {},
   "outputs": [
    {
     "name": "stdout",
     "output_type": "stream",
     "text": [
      "name : hassan khan\n",
      "age : 18\n",
      "updated name: ghanshyam\n",
      "updated age : 19\n"
     ]
    }
   ],
   "source": [
    "class person:\n",
    "    def __init__(self,name,age):\n",
    "        self._name=name\n",
    "        self._age=age\n",
    "\n",
    "    def get_name(self):\n",
    "        return self._name\n",
    "\n",
    "    def set_name(self,name):\n",
    "        self._name=name\n",
    "\n",
    "    def get_age(self):\n",
    "        return self._age\n",
    "    \n",
    "    def set_age(self,age):\n",
    "        if age >=0:\n",
    "            self._age=age\n",
    "        else:\n",
    "            print(\"age can not be negative. setting age to 0.\")\n",
    "\n",
    "person = person(\"hassan khan\", 18)\n",
    "\n",
    "print(\"name :\",person.get_name())\n",
    "print(\"age :\",person.get_age())\n",
    "\n",
    "person.set_name(\"ghanshyam\")\n",
    "person.set_age(19)\n",
    "\n",
    "print(\"updated name:\",person.get_name())\n",
    "print(\"updated age :\",person.get_age())"
   ]
  },
  {
   "cell_type": "markdown",
   "metadata": {},
   "source": [
    "Q5.What is method overriding in python? Write a python code to demonstrate method overriding."
   ]
  },
  {
   "cell_type": "markdown",
   "metadata": {},
   "source": [
    "Ans:Method overriding in Python is a concept where a subclass provides a specific implementation for a method that is already defined in its parent class. The method in the subclass \"overrides\" the method with the same name in the parent class, allowing the subclass to provide its own customized behavior for that method."
   ]
  },
  {
   "cell_type": "code",
   "execution_count": 17,
   "metadata": {},
   "outputs": [
    {
     "name": "stdout",
     "output_type": "stream",
     "text": [
      "general sound of the animal\n",
      "meow\n",
      "bark\n"
     ]
    }
   ],
   "source": [
    "class animal:\n",
    "    def make_sound(self):\n",
    "        print(\"general sound of the animal\")\n",
    "\n",
    "class cat(animal):\n",
    "    def make_sound(self):\n",
    "        print(\"meow\")\n",
    "\n",
    "class dog(animal):\n",
    "    def make_sound(self):\n",
    "        print(\"bark\")\n",
    "\n",
    "animal=animal()\n",
    "cat=cat()\n",
    "dog=dog()\n",
    "\n",
    "animal.make_sound()\n",
    "cat.make_sound()\n",
    "dog.make_sound()"
   ]
  },
  {
   "cell_type": "code",
   "execution_count": null,
   "metadata": {},
   "outputs": [],
   "source": []
  }
 ],
 "metadata": {
  "kernelspec": {
   "display_name": "base",
   "language": "python",
   "name": "python3"
  },
  "language_info": {
   "codemirror_mode": {
    "name": "ipython",
    "version": 3
   },
   "file_extension": ".py",
   "mimetype": "text/x-python",
   "name": "python",
   "nbconvert_exporter": "python",
   "pygments_lexer": "ipython3",
   "version": "3.10.9"
  },
  "orig_nbformat": 4
 },
 "nbformat": 4,
 "nbformat_minor": 2
}
